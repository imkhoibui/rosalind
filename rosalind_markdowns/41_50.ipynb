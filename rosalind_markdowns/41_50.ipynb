{
  "cells": [
    {
      "cell_type": "raw",
      "metadata": {},
      "source": [
        "---\n",
        "title: 41-50\n",
        "---"
      ],
      "id": "ec67137d"
    },
    {
      "cell_type": "markdown",
      "metadata": {},
      "source": [
        "### 41 Creating a Distance Matrix\n"
      ],
      "id": "9ffac2f4"
    },
    {
      "cell_type": "code",
      "metadata": {},
      "source": [
        "from utils import point_mutations\n",
        "import numpy as np\n",
        "def distance_matrix(seqs):\n",
        "    seq_length = len(seqs[0])\n",
        "    distance_matrix = np.zeros((len(seqs), len(seqs)))\n",
        "    for i, seq_1 in enumerate(seqs):\n",
        "        for j, seq_2 in enumerate(seqs):\n",
        "            if i == j:\n",
        "                distance = 0\n",
        "                distance_matrix[i][j] = 0.0\n",
        "            else:\n",
        "                distance = point_mutations(seq_1, seq_2)\n",
        "                distance_matrix[i][j] = round(distance/seq_length, 3)\n",
        "    return distance_matrix"
      ],
      "id": "132357e3",
      "execution_count": null,
      "outputs": []
    },
    {
      "cell_type": "code",
      "metadata": {},
      "source": [
        "with open(\"../data/rosalind/rosalind_pdst.txt\", \"r\") as file:\n",
        "    text = file.read().split(\">\")[1:]\n",
        "    seqs = []\n",
        "    for seq in text:\n",
        "        seq = seq.split(\"\\n\")[1:]\n",
        "        seq = \"\".join(seq)\n",
        "        seqs.append(seq)\n",
        "    print(distance_matrix(seqs))"
      ],
      "id": "4600e35e",
      "execution_count": null,
      "outputs": []
    },
    {
      "cell_type": "markdown",
      "metadata": {},
      "source": [
        "### 42 Reversal Distance\n",
        "\n",
        "\n",
        "### 43 Matching Random Motifs\n"
      ],
      "id": "f091356d"
    },
    {
      "cell_type": "code",
      "metadata": {},
      "source": [
        "def random_motifs(N, x, s):\n",
        "    P = 1.0\n",
        "    for char in s:\n",
        "        if char in 'AT':\n",
        "            P *= (1 - x)/2\n",
        "        elif char in 'GC':\n",
        "            P *= x/2\n",
        "    prob = 1 - (1 - P)**N\n",
        "    return prob"
      ],
      "id": "86c0abb0",
      "execution_count": null,
      "outputs": []
    },
    {
      "cell_type": "code",
      "metadata": {},
      "source": [
        "print(random_motifs(82568, 0.539812, \"AGCTTGCC\"))"
      ],
      "id": "bb62f889",
      "execution_count": null,
      "outputs": []
    },
    {
      "cell_type": "markdown",
      "metadata": {},
      "source": [
        "### 44 Counting Subsets\n"
      ],
      "id": "23f468ae"
    },
    {
      "cell_type": "code",
      "metadata": {},
      "source": [
        "def subset_counts(n: int) -> int:\n",
        "    return 2**(n) % 1000000"
      ],
      "id": "127f02ed",
      "execution_count": null,
      "outputs": []
    },
    {
      "cell_type": "markdown",
      "metadata": {},
      "source": [
        "### 45 Introduction to Alternative Splicing\n",
        "\n",
        "\n",
        "### 46 Introduction to Set Operations\n",
        "\n",
        "\n",
        "### 47 Expected Number of Restriction Sites\n"
      ],
      "id": "ab19b090"
    },
    {
      "cell_type": "code",
      "metadata": {},
      "source": [
        "def expected_restriction(n, substr, arr):\n",
        "    str_len = len(substr)\n",
        "    n_select = n - str_len + 1\n",
        "    expected = []\n",
        "\n",
        "    for gc_content in arr:\n",
        "        GC_prob = gc_content / 2\n",
        "        AT_prob = 0.5 - GC_prob\n",
        "        prob = 1.0\n",
        "        for char in substr:\n",
        "            if char in \"GC\":\n",
        "                prob *= GC_prob\n",
        "            elif char in \"AT\":\n",
        "                prob *= AT_prob\n",
        "        expected.append(n_select*prob)\n",
        "\n",
        "    return expected"
      ],
      "id": "f8ce08c8",
      "execution_count": null,
      "outputs": []
    },
    {
      "cell_type": "markdown",
      "metadata": {},
      "source": [
        "### 48 Motzkin Numbers and RNA Secondary Structures\n",
        "\n",
        "\n",
        "### 49 Distances in Trees\n",
        "\n",
        "\n",
        "### 50 Interleaving two Motifs\n"
      ],
      "id": "c78c3fb6"
    }
  ],
  "metadata": {
    "kernelspec": {
      "name": "python3",
      "language": "python",
      "display_name": "Python 3 (ipykernel)"
    }
  },
  "nbformat": 4,
  "nbformat_minor": 5
}