{
  "cells": [
    {
      "cell_type": "raw",
      "metadata": {},
      "source": [
        "---\n",
        "title: 11-20\n",
        "---"
      ],
      "id": "c2999d27"
    },
    {
      "cell_type": "markdown",
      "metadata": {},
      "source": [
        "### 11 Mortal Fibonacci Rabbits\n"
      ],
      "id": "8e881e3f"
    },
    {
      "cell_type": "code",
      "metadata": {},
      "source": [
        "def mortal_rabbits(n: int, m: int):\n",
        "    \"\"\"\n",
        "        This function returns the number of rabbits alive after n generations,\n",
        "        provided that they live for m generations, and give birth to one pair\n",
        "        in each matured generation.\n",
        "        -----\n",
        "        Parameters:\n",
        "        - n (int): the total generations to account for\n",
        "        - m (int): the lifespan of a rabbit\n",
        "        -----\n",
        "        Returns:\n",
        "        - (int): the total number of living rabbits\n",
        "    \"\"\"\n",
        "    ## Initializing a list to hold rabbits_num in m generations\n",
        "    ls = [1, 0, 1]\n",
        "    for j in range(3, m):\n",
        "        ls.append(0)\n",
        "\n",
        "    ## For each generation, the mature rabbits give birth to more, and they\n",
        "    ## move to the next gen\n",
        "    for i in range(3, n):\n",
        "        new_ls = []\n",
        "        summ = sum(ls[1:])\n",
        "        new_ls.append(summ)\n",
        "        for j in range(1, len(ls)):\n",
        "            new_ls.append(ls[j-1])\n",
        "        ls = new_ls\n",
        "    return sum(ls[:])"
      ],
      "id": "c6ca6da1",
      "execution_count": null,
      "outputs": []
    },
    {
      "cell_type": "markdown",
      "metadata": {},
      "source": [
        "**Test case**"
      ],
      "id": "9937b388"
    },
    {
      "cell_type": "code",
      "metadata": {},
      "source": [
        "print(mortal_rabbits(89, 16))"
      ],
      "id": "3a19e7a1",
      "execution_count": null,
      "outputs": []
    },
    {
      "cell_type": "markdown",
      "metadata": {},
      "source": [
        "### 12 Overlap graphs"
      ],
      "id": "1a5e709d"
    },
    {
      "cell_type": "code",
      "metadata": {},
      "source": [
        "def overlap_graph(file, k:int):\n",
        "    \"\"\"\n",
        "        This function returns the sequences that overlaps (or connected) with\n",
        "        each other, suppose that each sequence is a node, the connection\n",
        "        between them is considered as a graph. The answer is written to a file\n",
        "        -----\n",
        "        Parameters:\n",
        "        - file: the file to extract sequences from\n",
        "        - k (int): the number of characters forming the prefix or suffix\n",
        "        -----\n",
        "        - Returns: the string where each line is 2 adjacent nodes\n",
        "        \n",
        "    \"\"\"\n",
        "    with open(file, \"r\") as f:\n",
        "        text = f.read().split(\">\")[1:]\n",
        "        answer = \"\"\n",
        "        graph_dict = {}\n",
        "        \n",
        "        for string in text:\n",
        "            strs = string.split(\"\\n\")\n",
        "            graph_dict[strs[0]] = \"\".join(strs[1:])\n",
        "        for key, value in graph_dict.items():\n",
        "            suffix = value[-k:]\n",
        "            for key_i, value_i in graph_dict.items():\n",
        "                if key_i != key:\n",
        "                    prefix_i = value_i[:k]\n",
        "                    if suffix == prefix_i:\n",
        "                        answer += key + \" \" + key_i + \"\\n\"\n",
        "    with open(\"../data/results/results_graph.txt\", \"w\") as f:\n",
        "        f.write(answer)\n",
        "    return answer"
      ],
      "id": "64bca8bf",
      "execution_count": null,
      "outputs": []
    },
    {
      "cell_type": "code",
      "metadata": {},
      "source": [
        "print(overlap_graph(\"../data/rosalind/rosalind_grph.txt\", 3))"
      ],
      "id": "76af9351",
      "execution_count": null,
      "outputs": []
    },
    {
      "cell_type": "markdown",
      "metadata": {},
      "source": [
        "### 13 Calculating Expected Offspring\n"
      ],
      "id": "94c7b91a"
    },
    {
      "cell_type": "code",
      "metadata": {},
      "source": [
        "from typing import List\n",
        "\n",
        "def expected_offstring(ls: List) -> float:\n",
        "    \"\"\"\n",
        "        This function calculates the number of expected offsprings displaying the \n",
        "        dominant phenotype in the next generation, given that every couple has \n",
        "        exactly two offspring.\n",
        "        -----\n",
        "        Parameters:\n",
        "        - ls (List): a list of number of parents with each phenotype\n",
        "        -----\n",
        "        Returns:\n",
        "        - (float): the expected number of dominant childs\n",
        "    \"\"\"\n",
        "    expected_child_num = 0\n",
        "    phenotype = [1, 1, 1, 0.75, 0.5, 0]\n",
        "    for i in range(len(ls)):\n",
        "        expected_child_num += float(ls[i])*phenotype[i]\n",
        "    return expected_child_num*2"
      ],
      "id": "3e39aa7d",
      "execution_count": null,
      "outputs": []
    },
    {
      "cell_type": "code",
      "metadata": {},
      "source": [
        "with open(\"../data/rosalind/rosalind_iev.txt\", \"r\") as f:\n",
        "    text = f.read().split(\" \")\n",
        "    print(expected_offstring(text))"
      ],
      "id": "e2ebfd30",
      "execution_count": null,
      "outputs": []
    },
    {
      "cell_type": "markdown",
      "metadata": {},
      "source": [
        "### 14 Finding a Shared Motif\n"
      ],
      "id": "292ed302"
    },
    {
      "cell_type": "code",
      "metadata": {},
      "source": [
        "import re\n",
        "def shared_motif(file) -> str:\n",
        "    \"\"\"\n",
        "        This function finds the longest common substring of the collection.\n",
        "        -----\n",
        "        Parameters:\n",
        "        - file: the file to be searched\n",
        "        -----\n",
        "        Returns:\n",
        "        - (str): the longest common substring\n",
        "    \"\"\"\n",
        "    with open(file, \"r\") as f:\n",
        "        text = f.read().split(\">\")[1:]\n",
        "        seq_dicts = []\n",
        "        for string in text:\n",
        "            strs = string.split(\"\\n\")\n",
        "            seq_dicts.append(\"\".join(strs[1:]))\n",
        "        motifs_ls = longest_common_substr(seq_dicts[0], seq_dicts[1])    \n",
        "        lsss = motifs_ls\n",
        "        for motif in motifs_ls:\n",
        "            for seq in seq_dicts[2:]:\n",
        "                if motif not in seq:\n",
        "                    lsss.remove(motif)\n",
        "                    break\n",
        "        return lsss[0]\n",
        "\n",
        "def longest_common_substr(str_1, str_2) -> List:\n",
        "    \"\"\"\n",
        "        This is a helper function for longest common substring\n",
        "        -----\n",
        "        Parameters:\n",
        "        - str_1, str_2 (str): the two strings to search\n",
        "        -----\n",
        "        Returns:\n",
        "        - (List): a list of common susbtrings\n",
        "    \"\"\"\n",
        "    common_substr = \"\"\n",
        "    substrs = []\n",
        "    for i in range(len(str_1), 1, -1):\n",
        "        rang = len(str_1) - i + 1\n",
        "        for j in range(rang):\n",
        "            pattern = str_1[j:j+i]\n",
        "            if pattern in str_1 and pattern in str_2:\n",
        "                common_substr = str_1[j:j+i]\n",
        "                substrs.append(common_substr)\n",
        "\n",
        "    return substrs"
      ],
      "id": "0679a6b6",
      "execution_count": null,
      "outputs": []
    },
    {
      "cell_type": "code",
      "metadata": {},
      "source": [
        "print(shared_motif(\"../data/rosalind/rosalind_grph.txt\"))"
      ],
      "id": "827ecbc5",
      "execution_count": null,
      "outputs": []
    },
    {
      "cell_type": "markdown",
      "metadata": {},
      "source": [
        "### 15 Independent Alleles\n"
      ],
      "id": "c6358aeb"
    },
    {
      "cell_type": "code",
      "metadata": {},
      "source": [
        "import math\n",
        "def independent_alleles(k: int, N: int) -> float:\n",
        "    \"\"\"\n",
        "        This function calculates the probability that at least N AaBb organisms \n",
        "        will belong to the k-th generation under Mendel's second law.\n",
        "        -----\n",
        "        Parameters:\n",
        "        - k (int): the generation to calculate from\n",
        "        - N (int): the number of organisms expected to fall in AaBb \n",
        "    \"\"\"\n",
        "    total = 0.0\n",
        "    for i in range(N, 2**k + 1):\n",
        "        n_fact = math.factorial(2**k)\n",
        "        n_k_fact = (math.factorial(i)*math.factorial(2**k-i))\n",
        "        binom = n_fact/n_k_fact\n",
        "        prob = (1/4)**(i) * (3/4)**(2**k-i) * binom\n",
        "        total += prob\n",
        "    return total"
      ],
      "id": "ce3270fb",
      "execution_count": null,
      "outputs": []
    },
    {
      "cell_type": "code",
      "metadata": {},
      "source": [
        "print(independent_alleles(6, 16))"
      ],
      "id": "2295a69d",
      "execution_count": null,
      "outputs": []
    },
    {
      "cell_type": "markdown",
      "metadata": {},
      "source": [
        "### 16 Finding a protein motif"
      ],
      "id": "369b1f55"
    },
    {
      "cell_type": "code",
      "metadata": {},
      "source": [
        "import requests\n",
        "import re\n",
        "def protein_motif(ls: List) -> str:\n",
        "    \"\"\"\n",
        "        This function returns the N-glycosylation motif-possessing protein \n",
        "        along with the locations of that motif.\n",
        "        N-glycosylation motif is under the format N{P}[ST]{P}.\n",
        "        -----\n",
        "        Parameters:\n",
        "        - ls (List): a list of UniProt Protein Database IDs\n",
        "        -----\n",
        "        Returns:\n",
        "        - (str): where each row is a protein, follows by a row of motifs locations\n",
        "    \"\"\"\n",
        "    answer = \"\"\n",
        "    pattern = re.compile(\"(?=(N[^P](S|T)[^P]))\")\n",
        "    for protein in ls:\n",
        "        print(f\"Looking for protein {protein}\")\n",
        "        if \"_\" in protein:\n",
        "            protein_id = protein.split(\"_\")[0]\n",
        "        else:\n",
        "            protein_id = protein\n",
        "        info = requests.get(f\"http://www.uniprot.org/uniprot/{protein_id}.fasta\").text\n",
        "        protein_seq = \"\".join(info.split(\"\\n\")[1:])\n",
        "        locations = \"\"\n",
        "\n",
        "        for m in pattern.finditer(protein_seq):\n",
        "            locations += str(m.start() + 1) + \" \"\n",
        "        if locations == \"\":\n",
        "            continue\n",
        "        answer += protein + \"\\n\" + locations + \"\\n\"\n",
        "\n",
        "    with open(\"../data/results/results_protein_motif.txt\", \"w\") as f:\n",
        "        f.write(answer)\n",
        "\n",
        "    return answer"
      ],
      "id": "03c8a93c",
      "execution_count": null,
      "outputs": []
    },
    {
      "cell_type": "code",
      "metadata": {},
      "source": [
        "## Test case\n",
        "with open(\"../data/rosalind/rosalind_mprt.txt\", \"r\") as file:\n",
        "    text = file.read().split(\"\\n\")\n",
        "    print(text)\n",
        "    print(protein_motif(text))"
      ],
      "id": "ef79d70a",
      "execution_count": null,
      "outputs": []
    },
    {
      "cell_type": "markdown",
      "metadata": {},
      "source": [
        "### 17 Inferring mRNA from protein\n"
      ],
      "id": "2d431527"
    },
    {
      "cell_type": "code",
      "metadata": {},
      "source": [
        "def mRNA_inference(protein_seq:str) -> int:\n",
        "    \"\"\"\n",
        "        This function calculates the total number of different RNA strings \n",
        "        from which the given protein sequence could have been translated.\n",
        "        -----\n",
        "        Parameters:\n",
        "        - protein_seq (str): the protein sequence\n",
        "        -----\n",
        "        Returns:\n",
        "        - (int): the number of possible RNA strings\n",
        "    \"\"\"\n",
        "    total = 1\n",
        "    with open(\"../data/ref/codon.txt\", \"r\") as file:\n",
        "        text = [line.replace(\"\\n\", \"\").split(\" \") for line in file.readlines()]\n",
        "        codon_table = {}\n",
        "\n",
        "        for line in text:   \n",
        "            line = [x for x in line if x != '']\n",
        "            \n",
        "            for i in range(len(line) // 2):\n",
        "                symbol = line[i*2+1]\n",
        "                amino_acid = line[i*2]\n",
        "                if symbol not in codon_table:\n",
        "                    codon_table[symbol] = [amino_acid]\n",
        "                else:\n",
        "                    codon_table[symbol].append(amino_acid)\n",
        "\n",
        "    for protein in protein_seq:\n",
        "        total *= len(codon_table[protein])\n",
        "\n",
        "    return total*3 % 1000000"
      ],
      "id": "68fef05b",
      "execution_count": null,
      "outputs": []
    },
    {
      "cell_type": "code",
      "metadata": {},
      "source": [
        "with open(\"../data/rosalind/rosalind_mrna.txt\", \"r\") as file:\n",
        "    text = file.read().split(\"\\n\")\n",
        "    text = \"\".join(text)\n",
        "    print(mRNA_inference(text))"
      ],
      "id": "21569d5d",
      "execution_count": null,
      "outputs": []
    },
    {
      "cell_type": "markdown",
      "metadata": {},
      "source": [
        "### 18 Open Reading Frames\n"
      ],
      "id": "451ca266"
    },
    {
      "cell_type": "code",
      "metadata": {},
      "source": [
        "from utils import DNA_complementary, transcription\n",
        "def get_codon_table(aa_first=False) -> dict:\n",
        "    \"\"\"\n",
        "        This helper function returns the codon table encoding\n",
        "        -----\n",
        "        Parameters:\n",
        "        - aa_first (boolean): whether the keys of dictionary is amino acid\n",
        "        -----\n",
        "        Returns:\n",
        "        - (dict): of aa and symbols\n",
        "    \"\"\"\n",
        "    with open(\"../data/ref/codon.txt\", \"r\") as file:\n",
        "        text = [line.replace(\"\\n\", \"\").split(\" \") for line in file.readlines()]\n",
        "        codon_table = {}\n",
        "        for line in text:   \n",
        "            line = [x for x in line if x != '']\n",
        "            if aa_first == True:\n",
        "                for i in range(len(line) // 2):\n",
        "                    codon_table[line[i*2]] = line[i*2+1]\n",
        "            else: \n",
        "                for i in range(len(line) // 2):\n",
        "                    symbol = line[i*2+1]\n",
        "                    amino_acid = line[i*2]\n",
        "                    if symbol not in codon_table:\n",
        "                        codon_table[symbol] = [amino_acid]\n",
        "                    else:\n",
        "                        codon_table[symbol].append(amino_acid)\n",
        "    return codon_table\n",
        "\n",
        "def orf(DNA_seq: str) -> str:\n",
        "    \"\"\"\n",
        "        This function returns distinct candidate protein string that can be \n",
        "        translated from ORF of the DNA sequence\n",
        "        -----\n",
        "        Parameters:\n",
        "        - DNA_seq (str): the DNA sequence to translated\n",
        "        -----\n",
        "        Returns:\n",
        "        - (str): strings of protein string\n",
        "    \"\"\"\n",
        "    ls_of_seq = []\n",
        "    codon_table = get_codon_table()\n",
        "    reverse_codon_table = get_codon_table(aa_first=True)\n",
        "    stop_codon = codon_table[\"Stop\"]\n",
        "    start_codon = \"AUG\"\n",
        "    DNA_com = DNA_complementary(DNA_seq)\n",
        "    RNA_seq = transcription(DNA_seq)\n",
        "    RNA_seq_reverse = transcription(DNA_com)\n",
        "\n",
        "    for codon in stop_codon:\n",
        "        pattern = re.compile(start_codon)\n",
        "        for m in pattern.finditer(RNA_seq):\n",
        "            seq = \"\"\n",
        "            i = m.start()\n",
        "            notEnd = True\n",
        "            while notEnd:\n",
        "                _codon = RNA_seq[i:i+3]\n",
        "                i += 3\n",
        "                if _codon in stop_codon:\n",
        "                    ls_of_seq.append(seq)\n",
        "                    break\n",
        "                if i >= len(RNA_seq):\n",
        "                    break\n",
        "                seq += reverse_codon_table[_codon]\n",
        "        for m in pattern.finditer(RNA_seq_reverse):\n",
        "            seq = \"\"\n",
        "            i = m.start()\n",
        "            notEnd = True\n",
        "            while notEnd:\n",
        "                _codon = RNA_seq_reverse[i:i+3]\n",
        "                i += 3\n",
        "                if _codon in stop_codon:\n",
        "                    ls_of_seq.append(seq)\n",
        "                    break\n",
        "                if i >= len(RNA_seq_reverse):\n",
        "                    break\n",
        "                seq += reverse_codon_table[_codon]\n",
        "    return \"\\n\".join(set(ls_of_seq))"
      ],
      "id": "d2497cb2",
      "execution_count": null,
      "outputs": []
    },
    {
      "cell_type": "code",
      "metadata": {},
      "source": [
        "with open(\"../data/rosalind/rosalind_orf.txt\", \"r\") as file:\n",
        "    text = file.read().split(\"\\n\")\n",
        "    text = \"\".join(text)\n",
        "    print(orf(text))"
      ],
      "id": "0bae679b",
      "execution_count": null,
      "outputs": []
    },
    {
      "cell_type": "markdown",
      "metadata": {},
      "source": [
        "### 19 Enumerating Gene Orders\n"
      ],
      "id": "4e3ed37a"
    },
    {
      "cell_type": "code",
      "metadata": {},
      "source": [
        "def enumerate_gene_orders(k:int) -> str:\n",
        "    \"\"\"\n",
        "        This function enumerates the permuation of an ordered list of ints\n",
        "        -----\n",
        "        Parameters:\n",
        "        - k (int): the number of ints from 1 to k\n",
        "        -----\n",
        "        Returns:\n",
        "        - (str): the result \n",
        "    \"\"\"\n",
        "    answer = \"\"\n",
        "    answer += str(point_mutation_enum(k)) + \"\\n\"\n",
        "    answer += point_mutation_ways(k)\n",
        "    answer = answer.split(\"\\n\")\n",
        "    final = answer[0] + \"\\n\"\n",
        "    for line in answer[1:]:\n",
        "        line = line[1:] + \"\\n\"\n",
        "        final += line\n",
        "    with open(\"../data/results/results_perm\", \"w\") as f:\n",
        "        f.write(final)\n",
        "\n",
        "def point_mutation_enum(k: int):\n",
        "    if k == 1:\n",
        "        return 1\n",
        "    else: \n",
        "        return k * point_mutation_enum(k-1)\n",
        "\n",
        "def point_mutation_ways(k: int):\n",
        "    lst = []\n",
        "    cur = \"\"\n",
        "    for i in range(k):\n",
        "        lst.append(str(i+1))\n",
        "    cur =  recurse(\"\", lst)\n",
        "    return cur\n",
        "\n",
        "def recurse(cur, lst):\n",
        "    answer = \"\"\n",
        "    if len(lst) == 0:\n",
        "        return cur + \"\\n\"\n",
        "    for i in range(len(lst)):\n",
        "        nextChar = lst.pop(i)\n",
        "        pr = recurse(cur + \" \" + nextChar, lst)\n",
        "        lst.insert(i, nextChar)\n",
        "        answer += pr\n",
        "    return answer"
      ],
      "id": "daaf59cb",
      "execution_count": null,
      "outputs": []
    },
    {
      "cell_type": "code",
      "metadata": {},
      "source": [
        "enumerate_gene_orders(6)"
      ],
      "id": "5ea23e3f",
      "execution_count": null,
      "outputs": []
    },
    {
      "cell_type": "markdown",
      "metadata": {},
      "source": [
        "### 20 Calculating Protein Mass\n"
      ],
      "id": "70774357"
    },
    {
      "cell_type": "code",
      "metadata": {},
      "source": [
        "def get_mass(file):\n",
        "    \"\"\"\n",
        "        This function returns the mass dictionary \n",
        "    \"\"\"\n",
        "    mass_dict = {}\n",
        "    with open(file, \"r\") as f:\n",
        "        text = f.read().split(\"\\n\")\n",
        "        for line in text:\n",
        "            line = line.split(\" \")\n",
        "            mass_dict[line[0]] = line[-1]\n",
        "    return mass_dict\n",
        "\n",
        "def protein_mass(seq: str)->float:\n",
        "    total_mass = 0.0\n",
        "    mass_dict = get_mass(\"../data/ref/mass.txt\")\n",
        "    for aa in seq:\n",
        "        total_mass += float(mass_dict[aa])\n",
        "    return total_mass"
      ],
      "id": "5582af65",
      "execution_count": null,
      "outputs": []
    },
    {
      "cell_type": "code",
      "metadata": {},
      "source": [
        "with open(\"../data/rosalind/rosalind_mass.txt\", \"r\") as file:\n",
        "    print(protein_mass(file.read()))"
      ],
      "id": "e944eb11",
      "execution_count": null,
      "outputs": []
    }
  ],
  "metadata": {
    "kernelspec": {
      "name": "python3",
      "language": "python",
      "display_name": "Python 3 (ipykernel)"
    }
  },
  "nbformat": 4,
  "nbformat_minor": 5
}