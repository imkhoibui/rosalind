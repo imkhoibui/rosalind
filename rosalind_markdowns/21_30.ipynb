{
  "cells": [
    {
      "cell_type": "raw",
      "metadata": {},
      "source": [
        "---\n",
        "title: 21-30\n",
        "---"
      ],
      "id": "dbb0a4c9"
    },
    {
      "cell_type": "markdown",
      "metadata": {},
      "source": [
        "### 21 Locating Restriction Sites"
      ],
      "id": "a81df354"
    },
    {
      "cell_type": "code",
      "metadata": {},
      "source": [
        "from utils import DNA_complementary, transcription\n",
        "def restriction_sites(seq_str: str):\n",
        "    len_lst = [12, 10, 8, 6, 4]\n",
        "    answer = \"\"\n",
        "    for i in range(len(seq_str)):\n",
        "        # print(i)\n",
        "        for length in len_lst:\n",
        "            if i + length <= len(seq_str):\n",
        "                substr = seq_str[i:i+length]\n",
        "                if check_palindrome(substr):\n",
        "                    answer += str(i + 1) + \" \" + str(length) + \"\\n\"\n",
        "                    continue\n",
        "                continue\n",
        "    return answer\n",
        "def check_palindrome(substr):\n",
        "    if len(substr) == 0:\n",
        "        return True\n",
        "    else:\n",
        "        if DNA_complementary(substr[0]) == substr[-1]:\n",
        "            # print(substr, substr[1:len(substr)-1])\n",
        "            return check_palindrome(substr[1:len(substr)-1])\n",
        "        else:\n",
        "            return False"
      ],
      "id": "eccf7b01",
      "execution_count": null,
      "outputs": []
    },
    {
      "cell_type": "code",
      "metadata": {},
      "source": [
        "with open(\"../data/rosalind/rosalind_repv.txt\", \"r\") as file:\n",
        "    text = \"\".join(file.read().split(\"\\n\"))\n",
        "    print(restriction_sites(text))"
      ],
      "id": "d3363e63",
      "execution_count": null,
      "outputs": []
    },
    {
      "cell_type": "markdown",
      "metadata": {},
      "source": [
        "### 22 RNA Splicing"
      ],
      "id": "f8fe5a05"
    },
    {
      "cell_type": "code",
      "metadata": {},
      "source": [
        "import re\n",
        "from utils import transcription, translation\n",
        "def RNA_splicing(file) -> str:\n",
        "    RNA_dict = {}\n",
        "    with open(file, \"r\") as f:\n",
        "        text = f.read().split(\">\")\n",
        "        final_rosalind = []\n",
        "        for rosalind in text:\n",
        "            if rosalind != \"\":\n",
        "                rosalind = rosalind.split(\"\\n\")[1:]\n",
        "                final_rosalind.append(\"\".join(rosalind))\n",
        "        for i in range(len(final_rosalind)):\n",
        "            RNA_dict[i] = final_rosalind[i]\n",
        "        pivot = RNA_dict[0]\n",
        "        for j in range(1, len(RNA_dict)):\n",
        "            pattern = re.compile(RNA_dict[j])\n",
        "            m = pattern.search(pivot)\n",
        "            if m != None:\n",
        "                pivot = pivot[:m.start()] + pivot[m.end():]\n",
        "        RNA_seq = transcription(pivot)\n",
        "    return translation(RNA_seq)"
      ],
      "id": "989b3c71",
      "execution_count": null,
      "outputs": []
    },
    {
      "cell_type": "code",
      "metadata": {},
      "source": [
        "with open(\"../data/results/answer_rosalind_splc.txt\", \"w\") as f:\n",
        "    f.write(RNA_splicing(\"../data/rosalind/rosalind_splc.txt\"))"
      ],
      "id": "90101243",
      "execution_count": null,
      "outputs": []
    },
    {
      "cell_type": "markdown",
      "metadata": {},
      "source": [
        "### 23 Enumerating k-mers Lexicographically\n"
      ],
      "id": "efbc3c0d"
    },
    {
      "cell_type": "code",
      "metadata": {},
      "source": [
        "from typing import List\n",
        "\n",
        "def k_mers_enumerate(seq_str: List, k: int):\n",
        "    cur = \"\"\n",
        "    cur = recurse(\"\", seq_str, k)\n",
        "    return cur\n",
        "def recurse(cur, lst, k):\n",
        "    answer = \"\"\n",
        "    if k == 0:\n",
        "        return cur + \"\\n\"\n",
        "    for j in range(len(lst)):\n",
        "        nextChar = lst[j]\n",
        "        pr = recurse(cur + nextChar, lst, k - 1)\n",
        "        answer += pr\n",
        "    return answer"
      ],
      "id": "dd797af6",
      "execution_count": null,
      "outputs": []
    },
    {
      "cell_type": "code",
      "metadata": {},
      "source": [
        "print(k_mers_enumerate([\"A\", \"C\", \"G\", \"T\"], 2))"
      ],
      "id": "a8433e4d",
      "execution_count": null,
      "outputs": []
    },
    {
      "cell_type": "markdown",
      "metadata": {},
      "source": [
        "### 24 Genome assembly shortest superstring\n"
      ],
      "id": "b10c0af5"
    },
    {
      "cell_type": "markdown",
      "metadata": {},
      "source": [
        "### 25 Perfect Matchings\n"
      ],
      "id": "24a42ecb"
    },
    {
      "cell_type": "code",
      "metadata": {},
      "source": [
        "import math\n",
        "def perfect_matching(seq: str) -> int:\n",
        "    A_counts = 0\n",
        "    G_counts = 0\n",
        "    for char in seq:\n",
        "        if char == \"A\":\n",
        "            A_counts += 1\n",
        "        elif char == \"G\":\n",
        "            G_counts += 1\n",
        "\n",
        "    return math.factorial(A_counts) * math.factorial(G_counts)"
      ],
      "id": "2e6ea846",
      "execution_count": null,
      "outputs": []
    },
    {
      "cell_type": "code",
      "metadata": {},
      "source": [
        "with open(\"../data/rosalind/rosalind_pmch.txt\", \"r\") as file:\n",
        "    text = file.read().split(\"\\n\")[1:]\n",
        "    text = \"\".join(text)\n",
        "    print(perfect_matching(text))"
      ],
      "id": "a2c2ec07",
      "execution_count": null,
      "outputs": []
    },
    {
      "cell_type": "markdown",
      "metadata": {},
      "source": [
        "### 26 Introduction to Random Strings\n"
      ],
      "id": "58ec4fff"
    },
    {
      "cell_type": "code",
      "metadata": {},
      "source": [
        "import math\n",
        "\n",
        "def random_strings(seq, prob_seqs):\n",
        "    answer = \"\"\n",
        "    for prob in prob_seqs:\n",
        "        prob = float(prob)\n",
        "        gc_prob = prob/2\n",
        "        qa_prob = (1-prob)/2\n",
        "        multi = 1\n",
        "        for char in seq:\n",
        "            if char == \"G\" or char == \"C\":\n",
        "                multi *= gc_prob\n",
        "            else:\n",
        "                multi *= qa_prob\n",
        "        common_prob = round(math.log(multi, 10), 3)\n",
        "        answer += str(common_prob) + \" \"\n",
        "    return answer"
      ],
      "id": "cf4de04c",
      "execution_count": null,
      "outputs": []
    },
    {
      "cell_type": "code",
      "metadata": {},
      "source": [
        "print(random_strings(\"ACGATACAA\" , [0.129, 0.287, 0.423, 0.476, 0.641, 0.742, 0.783]))"
      ],
      "id": "f468e07f",
      "execution_count": null,
      "outputs": []
    },
    {
      "cell_type": "markdown",
      "metadata": {},
      "source": [
        "### 27 Finding a Spliced Motif\n"
      ],
      "id": "444bb882"
    },
    {
      "cell_type": "code",
      "metadata": {},
      "source": [
        "def spliced_motif(s_seq, t_seq):\n",
        "    locations = \"\"\n",
        "    prev = 1\n",
        "    for i in t_seq:\n",
        "        pattern = re.compile(i)\n",
        "        m = pattern.search(s_seq)\n",
        "        locations += str(prev + m.start()) + \" \"\n",
        "        prev += m.start() + 1\n",
        "        s_seq = s_seq[m.start() + 1:]\n",
        "    \n",
        "    return locations"
      ],
      "id": "68c46ffd",
      "execution_count": null,
      "outputs": []
    },
    {
      "cell_type": "code",
      "metadata": {},
      "source": [
        "with open(\"../data/rosalind/rosalind_sseq.txt\", \"r\") as f:\n",
        "    text = f.read().split(\">\")[1:]\n",
        "    seq_1 = \"\".join(text[0].split(\"\\n\")[1:])\n",
        "    seq_2 = \"\".join(text[-1].split(\"\\n\")[1:])\n",
        "    print(spliced_motif(seq_1, seq_2))"
      ],
      "id": "95bfd874",
      "execution_count": null,
      "outputs": []
    },
    {
      "cell_type": "markdown",
      "metadata": {},
      "source": [
        "### 28 Transitions and Tranversions"
      ],
      "id": "72841e12"
    },
    {
      "cell_type": "code",
      "metadata": {},
      "source": [
        "def trans(seq_1, seq_2):\n",
        "    transition_r = 0\n",
        "    transversion_r = 0\n",
        "    nucleotides = {\"A\": \"purine\", \"G\" : \"purine\", \"T\" : \"pyrimidine\", \"C\" : \"pyrimidine\"}\n",
        "\n",
        "    for i, j in zip(seq_1, seq_2):\n",
        "        if nucleotides[i] == nucleotides[j] and i != j:\n",
        "            transition_r += 1\n",
        "        elif nucleotides[i] != nucleotides[j] and i != j:\n",
        "            transversion_r += 1\n",
        "\n",
        "    return transition_r/transversion_r"
      ],
      "id": "3e24f836",
      "execution_count": null,
      "outputs": []
    },
    {
      "cell_type": "code",
      "metadata": {},
      "source": [
        "with open(\"../data/rosalind/rosalind_tran.txt\", \"r\") as file:\n",
        "    text = file.read().split(\">\")[1:]\n",
        "    seq_1 = \"\".join(text[0].split(\"\\n\")[1:])\n",
        "    seq_2 = \"\".join(text[-1].split(\"\\n\")[1:])\n",
        "    print(trans(seq_1, seq_2))"
      ],
      "id": "d40597c7",
      "execution_count": null,
      "outputs": []
    },
    {
      "cell_type": "markdown",
      "metadata": {},
      "source": [
        "### 29 Completing a Tree"
      ],
      "id": "d1669b43"
    },
    {
      "cell_type": "code",
      "metadata": {},
      "source": [
        "from typing import List\n",
        "def tree_build(num_nodes: int, adj_ls: List) -> int:\n",
        "    present_nodes = 0\n",
        "    dis_graphs = []\n",
        "\n",
        "    ## Stop when you can not add another graphs to the current disgraphs\n",
        "    while len(adj_ls) > 0:\n",
        "        dis_gr = adj_ls[0]\n",
        "        isAdded = True\n",
        "        if len(adj_ls) == 1:\n",
        "            dis_graphs.append(dis_gr)\n",
        "            break\n",
        "        elif len(adj_ls) > 1:\n",
        "            adj_ls = adj_ls[1:]\n",
        "\n",
        "        while isAdded:\n",
        "            # print(dis_gr)\n",
        "            addition = 0\n",
        "            for i in range(len(adj_ls)):\n",
        "                ls = adj_ls[i]\n",
        "                intersectionality = list(set(dis_gr).intersection(ls))\n",
        "                if len(intersectionality) > 0:\n",
        "                    dis_gr = list(set(dis_gr).union(set(ls)))\n",
        "                    adj_ls.pop(i)\n",
        "                    addition += 1\n",
        "                    break\n",
        "            if addition == 0:\n",
        "                isAdded = False\n",
        "                break\n",
        "        dis_graphs.append(dis_gr)\n",
        "\n",
        "    with open(\"../data/results/results_tree.txt\", \"w\") as file:\n",
        "        for each in dis_graphs:\n",
        "            file.write(str(each) + \"\\n\")\n",
        "    for graphs in dis_graphs:\n",
        "        present_nodes += len(graphs)\n",
        "    return len(dis_graphs) - 1 + (num_nodes - present_nodes)"
      ],
      "id": "f7854bf8",
      "execution_count": null,
      "outputs": []
    },
    {
      "cell_type": "code",
      "metadata": {},
      "source": [
        "with open(\"../data/rosalind/rosalind_tree.txt\", \"r\") as file:\n",
        "    text = file.read().split(\"\\n\")\n",
        "    num_nodes = int(text[0])\n",
        "    adj_ls = [list(text.split(\" \")) for text in text[1:]]\n",
        "\n",
        "    print(tree_build(num_nodes, adj_ls))"
      ],
      "id": "0ffb42d6",
      "execution_count": null,
      "outputs": []
    },
    {
      "cell_type": "markdown",
      "metadata": {},
      "source": [
        "### 30 Longest Increase Subsequence\n"
      ],
      "id": "9e251644"
    },
    {
      "cell_type": "code",
      "metadata": {},
      "source": [
        "from typing import List\n",
        "import copy\n",
        "def subsequence(seq: List):\n",
        "    seq_length = len(seq)\n",
        "    increase = []\n",
        "    decrease = []\n",
        "\n",
        "    ## Add 1 to all arrays\n",
        "    for i in range(seq_length):\n",
        "        increase.append(1)\n",
        "        decrease.append(1)\n",
        "        seq[i] = int(seq[i])\n",
        "\n",
        "    ## Construct an array to store longest subsequence increasingly and decreasingly\n",
        "    for i in range(1, seq_length):\n",
        "        for j in range(i):\n",
        "            if seq[j] > seq[i] and increase[i] >= increase[j]:\n",
        "                increase[i] = increase[j] + 1\n",
        "    reverse_seq = seq\n",
        "    for i in range(1, seq_length):\n",
        "        for j in range(i):\n",
        "            if reverse_seq[i] < reverse_seq[j] and decrease[i] <= decrease[j]:\n",
        "                decrease[i] = decrease[j] + 1\n",
        "    ## Iterate through the array to find the maximum value of sequence\n",
        "    max_seq = 0\n",
        "    index_seq = 0\n",
        "    max_reverse_seq = 0\n",
        "    index_reverse_seq = 0\n",
        "    for i in range(seq_length):\n",
        "        if increase[i] > max_seq:\n",
        "            max_seq = increase[i]\n",
        "            index_seq = i\n",
        "        if decrease[i] > max_reverse_seq:\n",
        "            max_reverse_seq = decrease[i]\n",
        "            index_reverse_seq = i\n",
        "\n",
        "    ## Backtracking from the maximum value max, if meets max-1, add to list array[max-1]\n",
        "    ## and assign max = max - 1, continue to track from backward \n",
        "    longest_increase_seq = [seq[index_seq]]\n",
        "    longest_decrease_seq = [reverse_seq[index_reverse_seq]]\n",
        "\n",
        "    for i in range(index_seq - 1, -1, -1):\n",
        "        if max_seq == -1:\n",
        "            break\n",
        "        if increase[i] == max_seq - 1 and longest_increase_seq[-1] > seq[i]:\n",
        "            longest_increase_seq.append(seq[i])\n",
        "            max_seq = max_seq - 1\n",
        "\n",
        "    for i in range(index_reverse_seq - 1, -1, -1):\n",
        "        if max_reverse_seq == -1:\n",
        "            break\n",
        "        if decrease[i] == max_reverse_seq - 1 and longest_decrease_seq[-1] > reverse_seq[i]:\n",
        "            longest_decrease_seq.append(reverse_seq[i])\n",
        "            max_reverse_seq = max_reverse_seq - 1\n",
        "    with open(\"../data/results/results_lgis.txt\", \"w\") as f:\n",
        "        inc = \"\"\n",
        "        dec = \"\"\n",
        "        for item in longest_increase_seq[::-1]:\n",
        "            inc += str(item) + \" \"\n",
        "        for item in longest_decrease_seq[::-1]:\n",
        "            dec += str(item) + \" \"\n",
        "        f.write(inc)\n",
        "        f.write(\"\\n\")\n",
        "        f.write(dec)"
      ],
      "id": "ba6105b5",
      "execution_count": null,
      "outputs": []
    },
    {
      "cell_type": "code",
      "metadata": {},
      "source": [
        "with open(\"../data/rosalind/rosalind_lgis.txt\", \"r\") as file:\n",
        "    text = file.read().split(\"\\n\")[1]\n",
        "    text = text.split(\" \")\n",
        "    # print(text)\n",
        "    subsequence(text)"
      ],
      "id": "3733903d",
      "execution_count": null,
      "outputs": []
    }
  ],
  "metadata": {
    "kernelspec": {
      "name": "python3",
      "language": "python",
      "display_name": "Python 3 (ipykernel)"
    }
  },
  "nbformat": 4,
  "nbformat_minor": 5
}